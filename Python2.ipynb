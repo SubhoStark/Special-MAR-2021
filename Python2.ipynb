{
  "nbformat": 4,
  "nbformat_minor": 0,
  "metadata": {
    "colab": {
      "name": "Python2.ipynb",
      "provenance": [],
      "authorship_tag": "ABX9TyPIsCsiqXapyQLvp8/K3xlP",
      "include_colab_link": true
    },
    "kernelspec": {
      "name": "python3",
      "display_name": "Python 3"
    },
    "language_info": {
      "name": "python"
    }
  },
  "cells": [
    {
      "cell_type": "markdown",
      "metadata": {
        "id": "view-in-github",
        "colab_type": "text"
      },
      "source": [
        "<a href=\"https://colab.research.google.com/github/SubhoStark/Special-MAR-2021/blob/main/Python2.ipynb\" target=\"_parent\"><img src=\"https://colab.research.google.com/assets/colab-badge.svg\" alt=\"Open In Colab\"/></a>"
      ]
    },
    {
      "cell_type": "markdown",
      "metadata": {
        "id": "_hVlHBtYjLAz"
      },
      "source": [
        "Write a Python Program to implement Fibonacci Sequence with the user input as the nuber of terms:\n",
        "\n",
        "The Fibonacci numbers are the numbers in the following integer sequence.  \n",
        "0, 1, 1, 2, 3, 5, 8, 13, 21, 34, 55, 89, 144, ......"
      ]
    },
    {
      "cell_type": "code",
      "metadata": {
        "colab": {
          "base_uri": "https://localhost:8080/"
        },
        "id": "KfDzLDPfjHgl",
        "outputId": "2f4ac278-aa66-4a7c-a282-71c48e28688d"
      },
      "source": [
        "a=int(input(\"Enter the number of terms: \"))\n",
        "f=0                                         \n",
        "s=1                                         \n",
        "if a<=1:\n",
        "    print(\"The requested series is: \",f)\n",
        "else:\n",
        "    print(\"The requested series is: \")\n",
        "    print(f,s,end=\" \")\n",
        "    for x in range(2,a):\n",
        "        next=f+s                           \n",
        "        print(next,end=\" \")\n",
        "        f=s\n",
        "        s=next"
      ],
      "execution_count": 2,
      "outputs": [
        {
          "output_type": "stream",
          "text": [
            "Enter the number of terms: 10\n",
            "The requested series is: \n",
            "0 1 1 2 3 5 8 13 21 34 "
          ],
          "name": "stdout"
        }
      ]
    }
  ]
}